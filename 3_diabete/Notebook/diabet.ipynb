{
  "cells": [
    {
      "cell_type": "markdown",
      "metadata": {
        "id": "k1qbTkhq7cBb"
      },
      "source": [
        "<h1 align=center style=\"line-height:200%;font-family:vazir;color:#0099cc\">\n",
        "<font face=\"vazir\" color=\"#0099cc\">\n",
        "جامعه دیابت\n",
        "</font>\n",
        "</h1>"
      ]
    },
    {
      "cell_type": "markdown",
      "metadata": {
        "id": "Z0DKkbM77cBf"
      },
      "source": [
        "<h2 dir=rtl align=right style=\"line-height:200%;font-family:vazir;color:#0099cc\">\n",
        "<font face=\"vazir\" color=\"#0099cc\">\n",
        "مقدمه و صورت مسئله\n",
        "</font>\n",
        "</h2>\n",
        "\n",
        "<p dir=rtl style=\"direction: rtl; text-align: justify; line-height:200%; font-family:vazir; font-size:medium\">\n",
        "<font face=\"vazir\" size=3>\n",
        "در این سوال ما به دنبال آموزش یک مدل یادگیری ماشین هستیم که بتواند جامعه دیابتی‌ها را به دو دسته مختلف تقسیم کند. در مجموعه‌داده مورد نظر، ستونی با نام <code>Diabetic</code> وجود دارد. در این سوال مدل شما باید بتواند با توجه به این ستون، افراد را به ۲ گروه «دارای دیابت از نوع ۱» و «دارای دیابت از نوع ۲» تقسیم کند.\n",
        "</font>\n",
        "</p>"
      ]
    },
    {
      "cell_type": "markdown",
      "metadata": {
        "id": "lWbJkA4y7cBg"
      },
      "source": [
        "<h2 dir=rtl align=right style=\"line-height:200%;font-family:vazir;color:#0099cc\">\n",
        "<font face=\"vazir\" color=\"#0099cc\">\n",
        "معرفی مجموعه داده\n",
        "</font>\n",
        "</h2>\n",
        "\n",
        "<p dir=rtl style=\"direction: rtl; text-align: justify; line-height:200%; font-family:vazir; font-size:medium\">\n",
        "<font face=\"vazir\" size=3>\n",
        "در فایل اولیه‌ی این سوال، یک پوشه با نام <code>Data</code> وجود دارد که شامل ۲ فایل <code>train.csv</code> و <code>test.csv</code> وجود دارد. در این ۲ فایل دیتاستی به شرح زیر موجود می‌باشد:\n",
        "</font>\n",
        "</p>\n",
        "\n",
        "<p dir=rtl style=\"direction: rtl; text-align: justify; line-height:200%; font-family:vazir; font-size:medium\">\n",
        "<font face=\"vazir\" size=3>\n",
        "فایل <code>train.csv</code> دارای ۵۰ ستون می‌باشد و فایل <code>test.csv</code> به جز ستون <code>Diabetic</code> به مشابه فایل <code>train.csv</code> دارای ۴۹ ستون می‌باشد.\n",
        "هر ستون مربوط به یک شاخصه‌ی تاثیرگذار بر روی وضعیت سلامت فرد است. توضیحات هر ستون به شرح زیر می‌باشد:\n",
        "\n",
        "<center>\n",
        "<div dir=rtl style=\"direction: rtl;line-height:200%;font-family:vazir;font-size:medium\">\n",
        "<font face=\"vazir\" size=3>\n",
        "    \n",
        "|ستون|توضیحات|\n",
        "|:------:|:---:|\n",
        "|<code>ADM_RNO1</code>|آی‌دی منحصربه‌فرد برای هر شخص|\n",
        "|<code>Province</code>|استانی که شخص در آن سکونت دارد|\n",
        "|<code>Health_region_grouped</code>|ناحیه بهداشتی که هر فرد در آن حضور دارد|\n",
        "|<code>Gender</code>|جنسیت|\n",
        "|<code>Marital_status</code>|وضعیت تاهل|\n",
        "|<code>Household</code>|نوع ترکیب خانوار|\n",
        "|<code>Age</code>|سن|\n",
        "|<code>Worked_job_business</code>|وضعیت شغلی فرد در ۱۲ ماه گذشته|\n",
        "|<code>Edu_level</code>|تحصیلات|\n",
        "|<code>Gen_health_state</code>|خودارزیابی سلامت عمومی|\n",
        "|<code>Life_satisfaction</code>|میزان رضایت از زندگی شخصی|\n",
        "|<code>Mental_health_state</code>|خود ارزیابی وضعیت سلامت روان|\n",
        "|<code>Stress_level</code>|سطح استرس در زندگی روزمره|\n",
        "|<code>Work_stress</code>|سطح استرس در زندگی کاری|\n",
        "|<code>Sense_belonging</code>|حس تعلق به جامعه|\n",
        "|<code>Weight_state</code>|وضعیت وزنی بر اساس معیار BMI|\n",
        "|<code>BMI_12_17</code>|میزان BMI برای سنین ۱۲ تا ۱۷ سال|\n",
        "|<code>BMI_18_above</code>|میزان BMI برای سنین بالای ۱۸ سال|\n",
        "|<code>Sleep_apnea</code>|وجود مشکل خواب|\n",
        "|<code>High_BP</code>|وجود مشکل فشار خون بالا|\n",
        "|<code>High_cholesterol</code>|وجود مشکل کلسترول بالا|\n",
        "|<code>Diabetic</code>|نوع دیابت|\n",
        "|<code>Fatigue_syndrome</code>|وجود سندروم خستگی مزمن|\n",
        "|<code>Mood_disorder</code>|وجود اختلال خلقی|\n",
        "|<code>Anxiety_disorder</code>|وجود اختلال اضطرابی|\n",
        "|<code>Respiratory_chronic_con</code>|وجود بیماری انسدادی مزمن ریه|\n",
        "|<code>Musculoskeletal_con</code>|وجود اختلال گرفتگی عضلانی|\n",
        "|<code>Cardiovascular_con</code>|وجود بیکاری قلبی و عروقی|\n",
        "|<code>Health_utility_index</code>|شاخص سلامتی|\n",
        "|<code>Pain_status</code>|فراوانی و شدت درد|\n",
        "|<code>Act_improve_health</code>|انجام فعالیت‌های مرتبط با بهبود سلامتی|\n",
        "|<code>Fruit_veg_con</code>|مصرف روزانه میوه و سبزیجات|\n",
        "|<code>Smoked</code>|وضعیت استعمال سیگار|\n",
        "|<code>Tobacco_use</code>|وضعیت مصرف تنباکو |\n",
        "|<code>Weekly_alcohol</code>|دفعات مصرف الکل در هفته|\n",
        "|<code>Cannabis_use</code>|وضعیت مصرف حشیش|\n",
        "|<code>Drug_use</code>|مصرف مواد مخدر غیرقانونی در 12 ماه گذشته|\n",
        "|<code>Total_active_time</code>|مجموع فعالیت‌های فیزیکی|\n",
        "|<code>Other_physical_act_time</code>|مجموع فعالیت‌های فیزیکی غیره|\n",
        "|<code>Physical_vigorous_act_time</code>|زمان صرف شده برای فعالیت بدنی شدید|\n",
        "|<code>Work_hours</code>|تعداد ساعات کار در هفته|\n",
        "|<code>Working_status</code>|وضعیت کلی اشتغال|\n",
        "|<code>Aboriginal_identity</code>|آیا فرد به عنوان بومی معرفی می شود یا خیر|\n",
        "|<code>Birth_country</code>|کشور تولد|\n",
        "|<code>Immigrant</code>|آیا فرد مهاجر است یا خیر|\n",
        "|<code>Insurance_cover</code>|نوع بیمه‌ای که فرد استفاده می‌کند|\n",
        "|<code>Food_security</code>|وضعیت امنیت غذایی خانوار|\n",
        "|<code>Income_source</code>|منبع اصلی درآمد |\n",
        "|<code>Total_income</code>|درآمد سالیانه|\n",
        "\n",
        "</font>\n",
        "</div>\n",
        "</center>\n",
        "\n",
        "\n",
        "<p dir=rtl style=\"direction: rtl; text-align: justify; line-height:200%; font-family:vazir; font-size:medium\">\n",
        "<font face=\"vazir\" size=3>\n",
        "در مجموعه‌داده داده‌شده، مقادیر به صورت عددی ذخیره‌شده‌اند و هر ستون با توجه به ماهیت خود، می‌تواند چندین مقدار مختلف داشته باشد.\n",
        "</font>\n",
        "</p>\n"
      ]
    },
    {
      "cell_type": "markdown",
      "metadata": {
        "id": "fDH-arXu7cBi"
      },
      "source": [
        "<p dir=rtl style=\"direction: rtl; text-align: justify; line-height:200%; font-family:vazir; font-size:medium\">\n",
        "<font face=\"vazir\" size=3>\n",
        "در این قسمت کتاب‌خانه‌ها و ابزار مورد نیاز خود را <code>import</code> کنید و فایل داده‌ها را که در پوشه‌ی <code>Data</code> و که با نام‌های <code>train.csv</code> و <code>test.csv</code> ذخیره‌شده‌اند را بخوانید و وارد محیط کار خود کنید.\n",
        "</font>\n",
        "</p>"
      ]
    },
    {
      "cell_type": "code",
      "source": [
        "from google.colab import drive\n",
        "drive.mount('/content/drive')"
      ],
      "metadata": {
        "colab": {
          "base_uri": "https://localhost:8080/"
        },
        "id": "VuJ5FhOr9MY9",
        "outputId": "0982cc2b-9c9f-47c5-a15e-6d5f9261164f"
      },
      "execution_count": 1,
      "outputs": [
        {
          "output_type": "stream",
          "name": "stdout",
          "text": [
            "Mounted at /content/drive\n"
          ]
        }
      ]
    },
    {
      "cell_type": "code",
      "source": [
        "import pandas as pd\n",
        "import numpy as np\n",
        "import matplotlib.pyplot as plt\n",
        "\n",
        "import warnings\n",
        "\n",
        "warnings.filterwarnings('ignore')"
      ],
      "metadata": {
        "id": "zR7YHdVDAhTc"
      },
      "execution_count": 14,
      "outputs": []
    },
    {
      "cell_type": "code",
      "execution_count": 3,
      "metadata": {
        "colab": {
          "base_uri": "https://localhost:8080/"
        },
        "id": "GwPHcfwt7cBi",
        "outputId": "0282a85e-30c4-4f20-9635-e977d507572f"
      },
      "outputs": [
        {
          "output_type": "stream",
          "name": "stdout",
          "text": [
            "Pandas version: 2.2.2\n",
            "Numpy version: 2.0.2\n",
            "Train shape: (23190, 50)\n",
            "Test shape: (5798, 49)\n"
          ]
        },
        {
          "output_type": "execute_result",
          "data": {
            "text/plain": [
              "(   ADM_RNO1  Province  Health_region_ grouped  Gender  Marital_status  \\\n",
              " 0    798763        24                   24913       1               1   \n",
              " 1    946238        24                   24912       1               1   \n",
              " 2    364610        35                   35970       2               2   \n",
              " 3    231469        35                   35966       2               2   \n",
              " 4    984145        24                   24916       1               1   \n",
              " \n",
              "    Household  Age  Worked_job_business  Edu_level  Gen_health_state  ...  \\\n",
              " 0          2    2                    2          3                 3  ...   \n",
              " 1          2    4                    1          3                 2  ...   \n",
              " 2          1    3                    1          3                 2  ...   \n",
              " 3          1    5                    6          3                 3  ...   \n",
              " 4          2    4                    1          3                 2  ...   \n",
              " \n",
              "    Physical_vigorous_act_time  Work_hours   working_status   \\\n",
              " 0                        9996           96                6   \n",
              " 1                        9996           38                1   \n",
              " 2                        9996           38                1   \n",
              " 3                        9996           96                6   \n",
              " 4                        9996           40                1   \n",
              " \n",
              "    Aboriginal_identity  Birth_country  Immigrant  Insurance_cover  \\\n",
              " 0                    2              1          2                6   \n",
              " 1                    2              1          2                6   \n",
              " 2                    2              2          1                6   \n",
              " 3                    2              2          1                6   \n",
              " 4                    2              1          2                6   \n",
              " \n",
              "    Food_security  Income_source  Total_income  \n",
              " 0              0              1             4  \n",
              " 1              0              1             5  \n",
              " 2              0              1             4  \n",
              " 3              0              2             2  \n",
              " 4              0              1             5  \n",
              " \n",
              " [5 rows x 50 columns],\n",
              "    ADM_RNO1  Province  Health_region_ grouped  Gender  Marital_status  \\\n",
              " 0    138764        24                   24905       1               1   \n",
              " 1    227877        48                   48932       2               2   \n",
              " 2    466508        10                   10911       2               1   \n",
              " 3     49082        48                   48933       1               1   \n",
              " 4    511063        35                   35944       1               1   \n",
              " \n",
              "    Household  Age  Worked_job_business  Edu_level  Gen_health_state  ...  \\\n",
              " 0          2    5                    6          3                 3  ...   \n",
              " 1          1    5                    6          1                 4  ...   \n",
              " 2          2    5                    6          3                 2  ...   \n",
              " 3          2    4                    1          3                 3  ...   \n",
              " 4          2    3                    1          3                 3  ...   \n",
              " \n",
              "    Physical_vigorous_act_time  Work_hours   working_status   \\\n",
              " 0                        9996           96                6   \n",
              " 1                          40           96                6   \n",
              " 2                        9996           96                6   \n",
              " 3                           0           30                1   \n",
              " 4                        9996           45                1   \n",
              " \n",
              "    Aboriginal_identity  Birth_country  Immigrant  Insurance_cover  \\\n",
              " 0                    2              1          2                6   \n",
              " 1                    2              1          2                6   \n",
              " 2                    2              1          2                6   \n",
              " 3                    2              1          2                6   \n",
              " 4                    2              2          1                6   \n",
              " \n",
              "    Food_security  Income_source  Total_income  \n",
              " 0              0              1             5  \n",
              " 1              0              2             2  \n",
              " 2              0              2             4  \n",
              " 3              0              2             3  \n",
              " 4              0              1             5  \n",
              " \n",
              " [5 rows x 49 columns])"
            ]
          },
          "metadata": {},
          "execution_count": 3
        }
      ],
      "source": [
        "print(f\"Pandas version: {pd.__version__}\")\n",
        "print(f\"Numpy version: {np.__version__}\")\n",
        "\n",
        "train_path = \"/content/drive/MyDrive/Quera/3_diabete/Data/train.csv\"\n",
        "test_path = \"/content/drive/MyDrive/Quera/3_diabete/Data/test.csv\"\n",
        "\n",
        "train_df = pd.read_csv(train_path)\n",
        "test_df = pd.read_csv(test_path)\n",
        "\n",
        "print(f\"Train shape: {train_df.shape}\")\n",
        "print(f\"Test shape: {test_df.shape}\")\n",
        "\n",
        "train_df.head(), test_df.head()"
      ]
    },
    {
      "cell_type": "markdown",
      "metadata": {
        "id": "YUZ-kMzH7cBk"
      },
      "source": [
        "<h2 dir=rtl align=right style=\"line-height:200%;font-family:vazir;color:#0099cc\">\n",
        "<font face=\"vazir\" color=\"#0099cc\">\n",
        "پیش‌پردازش و مهندسی ویژگی\n",
        "</font>\n",
        "</h2>\n",
        "\n",
        "<p dir=rtl style=\"direction: rtl; text-align: justify; line-height:200%; font-family:vazir; font-size:medium\">\n",
        "<font face=\"vazir\" size=3>\n",
        "        در این سوال شما می‌توانید از هر تکنیک پیش‌پردازش/مهندسی ویژگی دلخواهتان، استفاده کنید.\n",
        "    <br>\n",
        "    تکنیک‌هایی که استفاده می‌کنید به شکل مستقیم مورد ارزیابی توسط سامانه داوری قرار <b>نمی‌گیرند.</b> بلکه همه آن‌ها در دقت مدل شما تاثیر خواهند گذاشت؛ بنابراین هر چه پیش‌پردازش/مهندسی ویژگی بهتری انجام دهید تا دقت مدل بهبود پیدا کند، امتیاز بیشتری از این سوال کسب خواهید کرد.\n",
        "    در این قسمت شما می‌توانید بخشی از داده‌ی موجود را برای اعتبارسنجی در نظر بگیرید.\n",
        "</font>\n",
        "</p>"
      ]
    },
    {
      "cell_type": "code",
      "execution_count": 8,
      "metadata": {
        "colab": {
          "base_uri": "https://localhost:8080/",
          "height": 36
        },
        "id": "KLYCoRKm7cBk",
        "outputId": "fdab2017-19f1-4ebf-ea67-96fc37582c92"
      },
      "outputs": [
        {
          "output_type": "execute_result",
          "data": {
            "text/plain": [
              "'Health_region_ grouped'"
            ],
            "application/vnd.google.colaboratory.intrinsic+json": {
              "type": "string"
            }
          },
          "metadata": {},
          "execution_count": 8
        }
      ],
      "source": [
        "train_df.columns[2]"
      ]
    },
    {
      "cell_type": "code",
      "source": [
        "train_df.rename(columns={'Health_region_ grouped': 'Health_region_grouped'}, inplace=True)\n",
        "test_df.rename(columns={'Health_region_ grouped': 'Health_region_grouped'}, inplace=True)\n",
        "\n",
        "train_df.rename(columns={'ADM_RNO1': 'id'}, inplace=True)\n",
        "test_df.rename(columns={'ADM_RNO1': 'id'}, inplace=True)\n",
        "\n",
        "print(train_df.columns[2]); print(train_df.columns[0])"
      ],
      "metadata": {
        "colab": {
          "base_uri": "https://localhost:8080/"
        },
        "id": "0FPzKl91-kY-",
        "outputId": "c1a190ab-cab7-4b25-c7a1-d636a061cbf9"
      },
      "execution_count": 16,
      "outputs": [
        {
          "output_type": "stream",
          "name": "stdout",
          "text": [
            "Health_region_grouped\n",
            "id\n"
          ]
        }
      ]
    },
    {
      "cell_type": "markdown",
      "source": [
        "Missing Values"
      ],
      "metadata": {
        "id": "PJBlgN1zAM79"
      }
    },
    {
      "cell_type": "code",
      "source": [
        "missing_train = train_df.isnull().sum()\n",
        "missing_train = missing_train[missing_train > 0].sort_values(ascending=False)\n",
        "\n",
        "missing_test = test_df.isnull().sum()\n",
        "missing_test = missing_test[missing_test > 0].sort_values(ascending=False)\n",
        "\n",
        "missing_train, missing_test"
      ],
      "metadata": {
        "colab": {
          "base_uri": "https://localhost:8080/"
        },
        "id": "gDR1_3mf-kWo",
        "outputId": "90e56d85-c7c5-4c9e-d9e2-b46706403426"
      },
      "execution_count": 12,
      "outputs": [
        {
          "output_type": "execute_result",
          "data": {
            "text/plain": [
              "(Smoked    22\n",
              " dtype: int64,\n",
              " Smoked    11\n",
              " dtype: int64)"
            ]
          },
          "metadata": {},
          "execution_count": 12
        }
      ]
    },
    {
      "cell_type": "code",
      "source": [
        "missing_train_percentage = (train_df['Smoked'].isnull().sum() / len(train_df)) * 100\n",
        "\n",
        "missing_test_percentage = (test_df['Smoked'].isnull().sum() / len(test_df)) * 100\n",
        "\n",
        "print(f\"درصد مقادیر گمشده ستون 'Smoked' در train: {missing_train_percentage:.4f}%\")\n",
        "print(f\"درصد مقادیر گمشده ستون 'Smoked' در test: {missing_test_percentage:.4f}%\")"
      ],
      "metadata": {
        "colab": {
          "base_uri": "https://localhost:8080/"
        },
        "id": "RF6Kidb1-kUV",
        "outputId": "dd44a4f0-db5f-4776-d591-45e14a35a976"
      },
      "execution_count": 13,
      "outputs": [
        {
          "output_type": "stream",
          "name": "stdout",
          "text": [
            "درصد مقادیر گمشده ستون 'Smoked' در train: 0.0949%\n",
            "درصد مقادیر گمشده ستون 'Smoked' در test: 0.1897%\n"
          ]
        }
      ]
    },
    {
      "cell_type": "code",
      "source": [
        "train_df.dropna(inplace=True)\n",
        "test_df.dropna(inplace=True)\n",
        "\n",
        "print(\"Missing values in train after drop:\", train_df.isnull().sum().sum())\n",
        "print(\"Missing values in test after drop:\", test_df.isnull().sum().sum())"
      ],
      "metadata": {
        "colab": {
          "base_uri": "https://localhost:8080/"
        },
        "id": "Q5ArG7vC-kSZ",
        "outputId": "58c4b337-4818-4913-eb68-bdcdae5ce614"
      },
      "execution_count": 18,
      "outputs": [
        {
          "output_type": "stream",
          "name": "stdout",
          "text": [
            "Missing values in train after drop: 0\n",
            "Missing values in test after drop: 0\n"
          ]
        }
      ]
    },
    {
      "cell_type": "code",
      "source": [
        "print(\"Train Dataset Shape:\", train_df.shape)\n",
        "print(\"Test Dataset Shape:\", test_df.shape)\n",
        "\n",
        "print(\"\\nTrain Dataset Info:\")\n",
        "train_df.info()\n",
        "\n",
        "print(\"\\nTest Dataset Info:\")\n",
        "test_df.info()"
      ],
      "metadata": {
        "colab": {
          "base_uri": "https://localhost:8080/"
        },
        "id": "CjH_S6NP-kP9",
        "outputId": "a7fcbcb2-ff5d-4b86-d760-1f1e25dc298e"
      },
      "execution_count": 19,
      "outputs": [
        {
          "output_type": "stream",
          "name": "stdout",
          "text": [
            "Train Dataset Shape: (23168, 50)\n",
            "Test Dataset Shape: (5787, 49)\n",
            "\n",
            "Train Dataset Info:\n",
            "<class 'pandas.core.frame.DataFrame'>\n",
            "Index: 23168 entries, 0 to 23189\n",
            "Data columns (total 50 columns):\n",
            " #   Column                      Non-Null Count  Dtype  \n",
            "---  ------                      --------------  -----  \n",
            " 0   id                          23168 non-null  int64  \n",
            " 1   Province                    23168 non-null  int64  \n",
            " 2   Health_region_grouped       23168 non-null  int64  \n",
            " 3   Gender                      23168 non-null  int64  \n",
            " 4   Marital_status              23168 non-null  int64  \n",
            " 5   Household                   23168 non-null  int64  \n",
            " 6   Age                         23168 non-null  int64  \n",
            " 7   Worked_job_business         23168 non-null  int64  \n",
            " 8   Edu_level                   23168 non-null  int64  \n",
            " 9   Gen_health_state            23168 non-null  int64  \n",
            " 10  Life_satisfaction           23168 non-null  int64  \n",
            " 11  Mental_health_state         23168 non-null  int64  \n",
            " 12  Stress_level                23168 non-null  int64  \n",
            " 13  Work_stress                 23168 non-null  int64  \n",
            " 14  Sense_belonging             23168 non-null  int64  \n",
            " 15  Weight_state                23168 non-null  int64  \n",
            " 16  BMI_12_17                   23168 non-null  int64  \n",
            " 17  BMI_18_above                23168 non-null  int64  \n",
            " 18  Sleep_apnea                 23168 non-null  int64  \n",
            " 19  High_BP                     23168 non-null  int64  \n",
            " 20  High_cholestrol             23168 non-null  int64  \n",
            " 21  Diabetic                    23168 non-null  int64  \n",
            " 22  Fatigue_syndrome            23168 non-null  int64  \n",
            " 23  Mood_disorder               23168 non-null  int64  \n",
            " 24  Anxiety_disorder            23168 non-null  int64  \n",
            " 25  Respiratory_chronic_con     23168 non-null  int64  \n",
            " 26  Musculoskeletal_con         23168 non-null  int64  \n",
            " 27  Cardiovascular_con          23168 non-null  int64  \n",
            " 28  Health_utility_indx         23168 non-null  int64  \n",
            " 29  Pain_status                 23168 non-null  int64  \n",
            " 30  Act_improve_health          23168 non-null  int64  \n",
            " 31  Fruit_veg_con               23168 non-null  float64\n",
            " 32  Smoked                      23168 non-null  float64\n",
            " 33  Tobaco_use                  23168 non-null  int64  \n",
            " 34  weekly_alcohol              23168 non-null  int64  \n",
            " 35  Cannabies_use               23168 non-null  int64  \n",
            " 36  Drug_use                    23168 non-null  int64  \n",
            " 37  Total_active_time           23168 non-null  int64  \n",
            " 38  Total_physical_act_time     23168 non-null  int64  \n",
            " 39  Other_physical_act_time     23168 non-null  int64  \n",
            " 40  Physical_vigorous_act_time  23168 non-null  int64  \n",
            " 41  Work_hours                  23168 non-null  int64  \n",
            " 42  working_status              23168 non-null  int64  \n",
            " 43  Aboriginal_identity         23168 non-null  int64  \n",
            " 44  Birth_country               23168 non-null  int64  \n",
            " 45  Immigrant                   23168 non-null  int64  \n",
            " 46  Insurance_cover             23168 non-null  int64  \n",
            " 47  Food_security               23168 non-null  int64  \n",
            " 48  Income_source               23168 non-null  int64  \n",
            " 49  Total_income                23168 non-null  int64  \n",
            "dtypes: float64(2), int64(48)\n",
            "memory usage: 9.0 MB\n",
            "\n",
            "Test Dataset Info:\n",
            "<class 'pandas.core.frame.DataFrame'>\n",
            "Index: 5787 entries, 0 to 5797\n",
            "Data columns (total 49 columns):\n",
            " #   Column                      Non-Null Count  Dtype  \n",
            "---  ------                      --------------  -----  \n",
            " 0   id                          5787 non-null   int64  \n",
            " 1   Province                    5787 non-null   int64  \n",
            " 2   Health_region_grouped       5787 non-null   int64  \n",
            " 3   Gender                      5787 non-null   int64  \n",
            " 4   Marital_status              5787 non-null   int64  \n",
            " 5   Household                   5787 non-null   int64  \n",
            " 6   Age                         5787 non-null   int64  \n",
            " 7   Worked_job_business         5787 non-null   int64  \n",
            " 8   Edu_level                   5787 non-null   int64  \n",
            " 9   Gen_health_state            5787 non-null   int64  \n",
            " 10  Life_satisfaction           5787 non-null   int64  \n",
            " 11  Mental_health_state         5787 non-null   int64  \n",
            " 12  Stress_level                5787 non-null   int64  \n",
            " 13  Work_stress                 5787 non-null   int64  \n",
            " 14  Sense_belonging             5787 non-null   int64  \n",
            " 15  Weight_state                5787 non-null   int64  \n",
            " 16  BMI_12_17                   5787 non-null   int64  \n",
            " 17  BMI_18_above                5787 non-null   int64  \n",
            " 18  Sleep_apnea                 5787 non-null   int64  \n",
            " 19  High_BP                     5787 non-null   int64  \n",
            " 20  High_cholestrol             5787 non-null   int64  \n",
            " 21  Fatigue_syndrome            5787 non-null   int64  \n",
            " 22  Mood_disorder               5787 non-null   int64  \n",
            " 23  Anxiety_disorder            5787 non-null   int64  \n",
            " 24  Respiratory_chronic_con     5787 non-null   int64  \n",
            " 25  Musculoskeletal_con         5787 non-null   int64  \n",
            " 26  Cardiovascular_con          5787 non-null   int64  \n",
            " 27  Health_utility_indx         5787 non-null   int64  \n",
            " 28  Pain_status                 5787 non-null   int64  \n",
            " 29  Act_improve_health          5787 non-null   int64  \n",
            " 30  Fruit_veg_con               5787 non-null   float64\n",
            " 31  Smoked                      5787 non-null   float64\n",
            " 32  Tobaco_use                  5787 non-null   int64  \n",
            " 33  weekly_alcohol              5787 non-null   int64  \n",
            " 34  Cannabies_use               5787 non-null   int64  \n",
            " 35  Drug_use                    5787 non-null   int64  \n",
            " 36  Total_active_time           5787 non-null   int64  \n",
            " 37  Total_physical_act_time     5787 non-null   int64  \n",
            " 38  Other_physical_act_time     5787 non-null   int64  \n",
            " 39  Physical_vigorous_act_time  5787 non-null   int64  \n",
            " 40  Work_hours                  5787 non-null   int64  \n",
            " 41  working_status              5787 non-null   int64  \n",
            " 42  Aboriginal_identity         5787 non-null   int64  \n",
            " 43  Birth_country               5787 non-null   int64  \n",
            " 44  Immigrant                   5787 non-null   int64  \n",
            " 45  Insurance_cover             5787 non-null   int64  \n",
            " 46  Food_security               5787 non-null   int64  \n",
            " 47  Income_source               5787 non-null   int64  \n",
            " 48  Total_income                5787 non-null   int64  \n",
            "dtypes: float64(2), int64(47)\n",
            "memory usage: 2.2 MB\n"
          ]
        }
      ]
    },
    {
      "cell_type": "code",
      "source": [],
      "metadata": {
        "id": "FNCBzlfF-jwi"
      },
      "execution_count": null,
      "outputs": []
    },
    {
      "cell_type": "markdown",
      "metadata": {
        "id": "YOW1yneg7cBl"
      },
      "source": [
        "<h2 dir=rtl align=right style=\"line-height:200%;font-family:vazir;color:#0099cc\">\n",
        "<font face=\"vazir\" color=\"#0099cc\">\n",
        "آموزش مدل\n",
        "</font>\n",
        "</h2>\n",
        "\n",
        "<p dir=rtl style=\"direction: rtl;text-align: justify;line-height:200%;font-family:vazir;font-size:medium\">\n",
        "<font face=\"vazir\" size=3>\n",
        "    حال که داده را پاکسازی کرده و احتمالا ویژگی‌هایی را به آن افزوده یا از آن حذف کرده‌اید، وقت آن است که مدلی آموزش دهید که بتواند متغیر هدف این مسئله را پیش‌بینی کند. در این قسمت استفاده از هر نوع مدل مربوط به یادگیری ماشین کلاسیک مجاز می‌باشد.\n",
        "</font>\n",
        "</p>"
      ]
    },
    {
      "cell_type": "code",
      "execution_count": null,
      "metadata": {
        "id": "ZcUKtXBz7cBl"
      },
      "outputs": [],
      "source": [
        "# TODO:"
      ]
    },
    {
      "cell_type": "markdown",
      "metadata": {
        "id": "arTyvjLo7cBm"
      },
      "source": [
        "<h2 dir=rtl align=right style=\"line-height:200%;font-family:vazir;color:#0099cc\">\n",
        "<font face=\"vazir\" color=\"#0099cc\">\n",
        "معیار ارزیابی\n",
        "</font>\n",
        "</h2>\n",
        "\n",
        "<p dir=rtl style=\"direction: rtl; text-align: justify; line-height:200%; font-family:vazir; font-size:medium\">\n",
        "<font face=\"vazir\" size=3>\n",
        "   ارسال‌ها بر اساس امتیاز <code>F1</code> ارزیابی می‌شوند و مدل میانگین‌گیری <code>macro</code> است. امتیاز <code>F1</code> معیاری برای ارزیابی مدل است که هم بازیابی (<code>Recall</code>) و هم صحت (<code>Accuracy</code>) را در نظر می‌گیرد.\n",
        "   نتیجه‌ی نهایی بر اساس فرمول زیر محاسبه می‌گردد:\n",
        "\n",
        "$$score= round(f1score, 3) \\times 100$$\n",
        "</font>\n",
        "</p>\n",
        "<p dir=rtl style=\"direction: rtl; text-align: justify; line-height:200%; font-family:vazir; font-size:medium\">\n",
        "<font face=\"vazir\" size=3>\n",
        "مقدار <code>F1 Score</code> مدل شما تا ۳ رقم اعشار گرد شده و پس از ضرب در ۱۰۰ به‌عنوان امتیاز شما از این سوال لحاظ می‌شود. بیشترین امتیاز ممکن از این سوال ۱۰۰ و کمترین امتیاز قابل قبول، ۶۰ می‌باشد. امتیاز <code>F1</code> کمتر از ۶۰ معادل صفر در نظر گرفته خواهد شد.\n",
        "    <br>\n",
        "    پیشنهاد می‌شود با توجه به این معیار، عملکرد مدل خود را بر روی مجموعه‌ی آموزش یا اعتبارسنجی ارزیابی کنید.\n",
        "</font>\n",
        "</p>"
      ]
    },
    {
      "cell_type": "code",
      "execution_count": null,
      "metadata": {
        "id": "anY3WzNO7cBm"
      },
      "outputs": [],
      "source": [
        "from sklearn.metrics import f1_score\n",
        "\n",
        "# TODO:"
      ]
    },
    {
      "cell_type": "markdown",
      "metadata": {
        "id": "MWK-Ddr-7cBn"
      },
      "source": [
        "<h2 dir=rtl align=right style=\"line-height:200%;font-family:vazir;color:#0099cc\">\n",
        "<font face=\"vazir\" color=\"#0099cc\">\n",
        " پیش‌بینی برای داده تست و خروجی\n",
        "</font>\n",
        "</h2>\n",
        "\n",
        "<p dir=rtl style=\"direction: rtl;text-align: right;line-height:200%;font-family:vazir;font-size:medium\">\n",
        "<font face=\"vazir\" size=3>\n",
        "    پیش‌بینی مدل خود بر روی داده‌های آزمایش را در قالب یک <code>dataframe</code> در متغیری با نام <code>submission</code>ذخیره کنید.  این <code>dataframe</code> باید دارای یک ستون با نام <code>diabet</code> باشد که ردیف <code>i</code>ام آن، پیش‌بینی شما برای سطر <code>i</code>ام مجموعه‌داده‌ی آزمون باشد.\n",
        "</font>\n",
        "</p>\n",
        "\n",
        "<center>\n",
        "<div dir=rtl style=\"direction: rtl;line-height:200%;font-family:vazir;font-size:medium\">\n",
        "<font face=\"vazir\" size=3>\n",
        "    \n",
        "|ستون|توضیحات|\n",
        "|------|---|\n",
        "|diabet|نوع دیابت|\n",
        "    \n",
        "</font>\n",
        "</div>\n",
        "</center>"
      ]
    },
    {
      "cell_type": "code",
      "execution_count": null,
      "metadata": {
        "id": "-f27l-Vo7cBn"
      },
      "outputs": [],
      "source": [
        "# TODO:\n",
        "\n",
        "submission = None"
      ]
    },
    {
      "cell_type": "markdown",
      "metadata": {
        "id": "kVrvV6u07cBo"
      },
      "source": [
        "<h2 dir=rtl align=right style=\"line-height:200%;font-family:vazir;color:#0099cc\">\n",
        "<font face=\"vazir\" color=\"#0099cc\">\n",
        "<b>سلول جواب‌ساز</b>\n",
        "</font>\n",
        "</h2>\n",
        "\n",
        "<p dir=rtl style=\"direction: rtl; text-align: justify; line-height:200%; font-family:vazir; font-size:medium\">\n",
        "<font face=\"vazir\" size=3>\n",
        "    برای ساخته‌شدن فایل <code>result.zip</code> سلول زیر را اجرا کنید. توجه داشته باشید که پیش از اجرای سلول زیر تغییرات اعمال شده در نت‌بوک را ذخیره کرده باشید (<code>ctrl+s</code>) در غیر این صورت، در پایان مسابقه نمره شما به صفر تغییر خواهد کرد.\n",
        "    <br>\n",
        "    همچنین اگر از کولب برای اجرای این فایل نوت‌بوک استفاده می‌کنید، قبل از ارسال فایل <code>result.zip</code>، آخرین نسخه‌ی نوت‌بوک خود را دانلود کرده و داخل فایل ارسالی قرار دهید.\n",
        "</font>"
      ]
    },
    {
      "cell_type": "code",
      "execution_count": null,
      "metadata": {
        "id": "RUwylthB7cBo"
      },
      "outputs": [],
      "source": [
        "import zipfile\n",
        "import joblib\n",
        "import os\n",
        "\n",
        "if not os.path.exists(os.path.join(os.getcwd(), 'diabet.ipynb')):\n",
        "    %notebook -e diabet.ipynb\n",
        "\n",
        "def compress(file_names):\n",
        "    print(\"File Paths:\")\n",
        "    print(file_names)\n",
        "    compression = zipfile.ZIP_DEFLATED\n",
        "    with zipfile.ZipFile(\"result.zip\", mode=\"w\") as zf:\n",
        "        for file_name in file_names:\n",
        "            zf.write('./' + file_name, file_name, compress_type=compression)\n",
        "\n",
        "submission.to_csv('submission.csv', index=False)\n",
        "file_names = ['diabet.ipynb', 'submission.csv']\n",
        "compress(file_names)"
      ]
    }
  ],
  "metadata": {
    "kernelspec": {
      "display_name": "Python 3",
      "language": "python",
      "name": "python3"
    },
    "language_info": {
      "name": "python",
      "version": "3.11.6"
    },
    "colab": {
      "provenance": []
    }
  },
  "nbformat": 4,
  "nbformat_minor": 0
}